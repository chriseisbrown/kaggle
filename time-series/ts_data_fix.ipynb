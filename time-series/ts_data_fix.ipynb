{
 "cells": [
  {
   "cell_type": "code",
   "execution_count": 1,
   "metadata": {},
   "outputs": [],
   "source": [
    "import pandas as pd"
   ]
  },
  {
   "cell_type": "code",
   "execution_count": 4,
   "metadata": {},
   "outputs": [],
   "source": [
    "%%bigquery df_equity\n",
    "select * from equity_prices.rbs_equity where Date > \"2015-01-01\" order by Date "
   ]
  },
  {
   "cell_type": "code",
   "execution_count": 5,
   "metadata": {},
   "outputs": [
    {
     "data": {
      "text/plain": [
       "(1391, 7)"
      ]
     },
     "execution_count": 5,
     "metadata": {},
     "output_type": "execute_result"
    }
   ],
   "source": [
    "df_equity.shape"
   ]
  },
  {
   "cell_type": "code",
   "execution_count": 6,
   "metadata": {},
   "outputs": [
    {
     "data": {
      "text/plain": [
       "Date         object\n",
       "Open         object\n",
       "High         object\n",
       "Low          object\n",
       "Close        object\n",
       "Adj_Close    object\n",
       "Volume       object\n",
       "dtype: object"
      ]
     },
     "execution_count": 6,
     "metadata": {},
     "output_type": "execute_result"
    }
   ],
   "source": [
    "df_equity.dtypes"
   ]
  },
  {
   "cell_type": "code",
   "execution_count": 7,
   "metadata": {},
   "outputs": [],
   "source": [
    "df_equity['Date'] = pd.to_datetime(df_equity['Date'], errors='coerce')"
   ]
  },
  {
   "cell_type": "code",
   "execution_count": 8,
   "metadata": {},
   "outputs": [
    {
     "data": {
      "text/plain": [
       "Date         datetime64[ns]\n",
       "Open                 object\n",
       "High                 object\n",
       "Low                  object\n",
       "Close                object\n",
       "Adj_Close            object\n",
       "Volume               object\n",
       "dtype: object"
      ]
     },
     "execution_count": 8,
     "metadata": {},
     "output_type": "execute_result"
    }
   ],
   "source": [
    "df_equity.dtypes"
   ]
  },
  {
   "cell_type": "code",
   "execution_count": 9,
   "metadata": {},
   "outputs": [
    {
     "data": {
      "text/html": [
       "<div>\n",
       "<style scoped>\n",
       "    .dataframe tbody tr th:only-of-type {\n",
       "        vertical-align: middle;\n",
       "    }\n",
       "\n",
       "    .dataframe tbody tr th {\n",
       "        vertical-align: top;\n",
       "    }\n",
       "\n",
       "    .dataframe thead th {\n",
       "        text-align: right;\n",
       "    }\n",
       "</style>\n",
       "<table border=\"1\" class=\"dataframe\">\n",
       "  <thead>\n",
       "    <tr style=\"text-align: right;\">\n",
       "      <th></th>\n",
       "      <th>Date</th>\n",
       "      <th>Open</th>\n",
       "      <th>High</th>\n",
       "      <th>Low</th>\n",
       "      <th>Close</th>\n",
       "      <th>Adj_Close</th>\n",
       "      <th>Volume</th>\n",
       "    </tr>\n",
       "  </thead>\n",
       "  <tbody>\n",
       "    <tr>\n",
       "      <th>758</th>\n",
       "      <td>2018-01-02</td>\n",
       "      <td>277.200012</td>\n",
       "      <td>279.700012</td>\n",
       "      <td>276.100006</td>\n",
       "      <td>277.299988</td>\n",
       "      <td>241.925720</td>\n",
       "      <td>6870581</td>\n",
       "    </tr>\n",
       "    <tr>\n",
       "      <th>759</th>\n",
       "      <td>2018-01-03</td>\n",
       "      <td>277.000000</td>\n",
       "      <td>278.600006</td>\n",
       "      <td>275.500000</td>\n",
       "      <td>275.500000</td>\n",
       "      <td>240.355347</td>\n",
       "      <td>10660425</td>\n",
       "    </tr>\n",
       "    <tr>\n",
       "      <th>760</th>\n",
       "      <td>2018-01-04</td>\n",
       "      <td>276.299988</td>\n",
       "      <td>279.399994</td>\n",
       "      <td>275.600006</td>\n",
       "      <td>278.000000</td>\n",
       "      <td>242.536407</td>\n",
       "      <td>12082941</td>\n",
       "    </tr>\n",
       "    <tr>\n",
       "      <th>761</th>\n",
       "      <td>2018-01-05</td>\n",
       "      <td>278.000000</td>\n",
       "      <td>279.299988</td>\n",
       "      <td>276.100006</td>\n",
       "      <td>276.299988</td>\n",
       "      <td>241.053284</td>\n",
       "      <td>9925316</td>\n",
       "    </tr>\n",
       "    <tr>\n",
       "      <th>762</th>\n",
       "      <td>2018-01-08</td>\n",
       "      <td>276.500000</td>\n",
       "      <td>279.500000</td>\n",
       "      <td>275.799988</td>\n",
       "      <td>278.700012</td>\n",
       "      <td>243.147156</td>\n",
       "      <td>12129375</td>\n",
       "    </tr>\n",
       "  </tbody>\n",
       "</table>\n",
       "</div>"
      ],
      "text/plain": [
       "          Date        Open        High         Low       Close   Adj_Close  \\\n",
       "758 2018-01-02  277.200012  279.700012  276.100006  277.299988  241.925720   \n",
       "759 2018-01-03  277.000000  278.600006  275.500000  275.500000  240.355347   \n",
       "760 2018-01-04  276.299988  279.399994  275.600006  278.000000  242.536407   \n",
       "761 2018-01-05  278.000000  279.299988  276.100006  276.299988  241.053284   \n",
       "762 2018-01-08  276.500000  279.500000  275.799988  278.700012  243.147156   \n",
       "\n",
       "       Volume  \n",
       "758   6870581  \n",
       "759  10660425  \n",
       "760  12082941  \n",
       "761   9925316  \n",
       "762  12129375  "
      ]
     },
     "execution_count": 9,
     "metadata": {},
     "output_type": "execute_result"
    }
   ],
   "source": [
    "df_equity = df_equity[df_equity['Date']>= '01-01-2018']\n",
    "df_equity.head()"
   ]
  },
  {
   "cell_type": "code",
   "execution_count": 10,
   "metadata": {},
   "outputs": [
    {
     "data": {
      "text/plain": [
       "(633, 7)"
      ]
     },
     "execution_count": 10,
     "metadata": {},
     "output_type": "execute_result"
    }
   ],
   "source": [
    "df_equity.shape"
   ]
  },
  {
   "cell_type": "code",
   "execution_count": null,
   "metadata": {},
   "outputs": [],
   "source": []
  }
 ],
 "metadata": {
  "kernelspec": {
   "display_name": "Apache Beam 2.24.0.dev0 for Python 3",
   "language": "python",
   "name": "python3"
  },
  "language_info": {
   "codemirror_mode": {
    "name": "ipython",
    "version": 3
   },
   "file_extension": ".py",
   "mimetype": "text/x-python",
   "name": "python",
   "nbconvert_exporter": "python",
   "pygments_lexer": "ipython3",
   "version": "3.7.6"
  }
 },
 "nbformat": 4,
 "nbformat_minor": 4
}
