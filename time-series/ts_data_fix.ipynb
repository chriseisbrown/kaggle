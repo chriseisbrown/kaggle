{
 "cells": [
  {
   "cell_type": "code",
   "execution_count": 1,
   "metadata": {},
   "outputs": [],
   "source": [
    "import pandas as pd"
   ]
  },
  {
   "cell_type": "code",
   "execution_count": 4,
   "metadata": {},
   "outputs": [],
   "source": [
    "%%bigquery df_equity\n",
    "select * from equity_prices.rbs_equity where Date > \"2015-01-01\" order by Date "
   ]
  },
  {
   "cell_type": "code",
   "execution_count": 5,
   "metadata": {},
   "outputs": [
    {
     "data": {
      "text/plain": [
       "(1391, 7)"
      ]
     },
     "execution_count": 5,
     "metadata": {},
     "output_type": "execute_result"
    }
   ],
   "source": [
    "df_equity.shape"
   ]
  },
  {
   "cell_type": "code",
   "execution_count": 6,
   "metadata": {},
   "outputs": [
    {
     "data": {
      "text/plain": [
       "Date         object\n",
       "Open         object\n",
       "High         object\n",
       "Low          object\n",
       "Close        object\n",
       "Adj_Close    object\n",
       "Volume       object\n",
       "dtype: object"
      ]
     },
     "execution_count": 6,
     "metadata": {},
     "output_type": "execute_result"
    }
   ],
   "source": [
    "df_equity.dtypes"
   ]
  },
  {
   "cell_type": "code",
   "execution_count": 7,
   "metadata": {},
   "outputs": [],
   "source": [
    "df_equity['Date'] = pd.to_datetime(df_equity['Date'], errors='coerce')"
   ]
  },
  {
   "cell_type": "code",
   "execution_count": 8,
   "metadata": {},
   "outputs": [
    {
     "data": {
      "text/plain": [
       "Date         datetime64[ns]\n",
       "Open                 object\n",
       "High                 object\n",
       "Low                  object\n",
       "Close                object\n",
       "Adj_Close            object\n",
       "Volume               object\n",
       "dtype: object"
      ]
     },
     "execution_count": 8,
     "metadata": {},
     "output_type": "execute_result"
    }
   ],
   "source": [
    "df_equity.dtypes"
   ]
  },
  {
   "cell_type": "code",
   "execution_count": 9,
   "metadata": {},
   "outputs": [
    {
     "data": {
      "text/html": [
       "<div>\n",
       "<style scoped>\n",
       "    .dataframe tbody tr th:only-of-type {\n",
       "        vertical-align: middle;\n",
       "    }\n",
       "\n",
       "    .dataframe tbody tr th {\n",
       "        vertical-align: top;\n",
       "    }\n",
       "\n",
       "    .dataframe thead th {\n",
       "        text-align: right;\n",
       "    }\n",
       "</style>\n",
       "<table border=\"1\" class=\"dataframe\">\n",
       "  <thead>\n",
       "    <tr style=\"text-align: right;\">\n",
       "      <th></th>\n",
       "      <th>Date</th>\n",
       "      <th>Open</th>\n",
       "      <th>High</th>\n",
       "      <th>Low</th>\n",
       "      <th>Close</th>\n",
       "      <th>Adj_Close</th>\n",
       "      <th>Volume</th>\n",
       "    </tr>\n",
       "  </thead>\n",
       "  <tbody>\n",
       "    <tr>\n",
       "      <th>758</th>\n",
       "      <td>2018-01-02</td>\n",
       "      <td>277.200012</td>\n",
       "      <td>279.700012</td>\n",
       "      <td>276.100006</td>\n",
       "      <td>277.299988</td>\n",
       "      <td>241.925720</td>\n",
       "      <td>6870581</td>\n",
       "    </tr>\n",
       "    <tr>\n",
       "      <th>759</th>\n",
       "      <td>2018-01-03</td>\n",
       "      <td>277.000000</td>\n",
       "      <td>278.600006</td>\n",
       "      <td>275.500000</td>\n",
       "      <td>275.500000</td>\n",
       "      <td>240.355347</td>\n",
       "      <td>10660425</td>\n",
       "    </tr>\n",
       "    <tr>\n",
       "      <th>760</th>\n",
       "      <td>2018-01-04</td>\n",
       "      <td>276.299988</td>\n",
       "      <td>279.399994</td>\n",
       "      <td>275.600006</td>\n",
       "      <td>278.000000</td>\n",
       "      <td>242.536407</td>\n",
       "      <td>12082941</td>\n",
       "    </tr>\n",
       "    <tr>\n",
       "      <th>761</th>\n",
       "      <td>2018-01-05</td>\n",
       "      <td>278.000000</td>\n",
       "      <td>279.299988</td>\n",
       "      <td>276.100006</td>\n",
       "      <td>276.299988</td>\n",
       "      <td>241.053284</td>\n",
       "      <td>9925316</td>\n",
       "    </tr>\n",
       "    <tr>\n",
       "      <th>762</th>\n",
       "      <td>2018-01-08</td>\n",
       "      <td>276.500000</td>\n",
       "      <td>279.500000</td>\n",
       "      <td>275.799988</td>\n",
       "      <td>278.700012</td>\n",
       "      <td>243.147156</td>\n",
       "      <td>12129375</td>\n",
       "    </tr>\n",
       "  </tbody>\n",
       "</table>\n",
       "</div>"
      ],
      "text/plain": [
       "          Date        Open        High         Low       Close   Adj_Close  \\\n",
       "758 2018-01-02  277.200012  279.700012  276.100006  277.299988  241.925720   \n",
       "759 2018-01-03  277.000000  278.600006  275.500000  275.500000  240.355347   \n",
       "760 2018-01-04  276.299988  279.399994  275.600006  278.000000  242.536407   \n",
       "761 2018-01-05  278.000000  279.299988  276.100006  276.299988  241.053284   \n",
       "762 2018-01-08  276.500000  279.500000  275.799988  278.700012  243.147156   \n",
       "\n",
       "       Volume  \n",
       "758   6870581  \n",
       "759  10660425  \n",
       "760  12082941  \n",
       "761   9925316  \n",
       "762  12129375  "
      ]
     },
     "execution_count": 9,
     "metadata": {},
     "output_type": "execute_result"
    }
   ],
   "source": [
    "df_equity = df_equity[df_equity['Date']>= '01-01-2018']\n",
    "df_equity.head()"
   ]
  },
  {
   "cell_type": "code",
   "execution_count": 10,
   "metadata": {},
   "outputs": [
    {
     "data": {
      "text/plain": [
       "(633, 7)"
      ]
     },
     "execution_count": 10,
     "metadata": {},
     "output_type": "execute_result"
    }
   ],
   "source": [
    "df_equity.shape"
   ]
  },
  {
   "cell_type": "markdown",
   "metadata": {},
   "source": [
    "#### First get a complete data set\n",
    "Note: our equity prices have missing values (weekends, public holidays).  We should fill in these missing values using the values from the previous day then we will have a set of continuous dates/values (\"forward filling\").  This will also pre-empt warnings from the prediction methods below."
   ]
  },
  {
   "cell_type": "code",
   "execution_count": 11,
   "metadata": {},
   "outputs": [
    {
     "data": {
      "text/html": [
       "<div>\n",
       "<style scoped>\n",
       "    .dataframe tbody tr th:only-of-type {\n",
       "        vertical-align: middle;\n",
       "    }\n",
       "\n",
       "    .dataframe tbody tr th {\n",
       "        vertical-align: top;\n",
       "    }\n",
       "\n",
       "    .dataframe thead th {\n",
       "        text-align: right;\n",
       "    }\n",
       "</style>\n",
       "<table border=\"1\" class=\"dataframe\">\n",
       "  <thead>\n",
       "    <tr style=\"text-align: right;\">\n",
       "      <th></th>\n",
       "      <th>Open</th>\n",
       "      <th>High</th>\n",
       "      <th>Low</th>\n",
       "      <th>Close</th>\n",
       "      <th>Adj_Close</th>\n",
       "      <th>Volume</th>\n",
       "    </tr>\n",
       "    <tr>\n",
       "      <th>Date</th>\n",
       "      <th></th>\n",
       "      <th></th>\n",
       "      <th></th>\n",
       "      <th></th>\n",
       "      <th></th>\n",
       "      <th></th>\n",
       "    </tr>\n",
       "  </thead>\n",
       "  <tbody>\n",
       "    <tr>\n",
       "      <th>2018-01-02</th>\n",
       "      <td>277.200012</td>\n",
       "      <td>279.700012</td>\n",
       "      <td>276.100006</td>\n",
       "      <td>277.299988</td>\n",
       "      <td>241.925720</td>\n",
       "      <td>6870581</td>\n",
       "    </tr>\n",
       "    <tr>\n",
       "      <th>2018-01-03</th>\n",
       "      <td>277.000000</td>\n",
       "      <td>278.600006</td>\n",
       "      <td>275.500000</td>\n",
       "      <td>275.500000</td>\n",
       "      <td>240.355347</td>\n",
       "      <td>10660425</td>\n",
       "    </tr>\n",
       "    <tr>\n",
       "      <th>2018-01-04</th>\n",
       "      <td>276.299988</td>\n",
       "      <td>279.399994</td>\n",
       "      <td>275.600006</td>\n",
       "      <td>278.000000</td>\n",
       "      <td>242.536407</td>\n",
       "      <td>12082941</td>\n",
       "    </tr>\n",
       "    <tr>\n",
       "      <th>2018-01-05</th>\n",
       "      <td>278.000000</td>\n",
       "      <td>279.299988</td>\n",
       "      <td>276.100006</td>\n",
       "      <td>276.299988</td>\n",
       "      <td>241.053284</td>\n",
       "      <td>9925316</td>\n",
       "    </tr>\n",
       "    <tr>\n",
       "      <th>2018-01-08</th>\n",
       "      <td>276.500000</td>\n",
       "      <td>279.500000</td>\n",
       "      <td>275.799988</td>\n",
       "      <td>278.700012</td>\n",
       "      <td>243.147156</td>\n",
       "      <td>12129375</td>\n",
       "    </tr>\n",
       "  </tbody>\n",
       "</table>\n",
       "</div>"
      ],
      "text/plain": [
       "                  Open        High         Low       Close   Adj_Close  \\\n",
       "Date                                                                     \n",
       "2018-01-02  277.200012  279.700012  276.100006  277.299988  241.925720   \n",
       "2018-01-03  277.000000  278.600006  275.500000  275.500000  240.355347   \n",
       "2018-01-04  276.299988  279.399994  275.600006  278.000000  242.536407   \n",
       "2018-01-05  278.000000  279.299988  276.100006  276.299988  241.053284   \n",
       "2018-01-08  276.500000  279.500000  275.799988  278.700012  243.147156   \n",
       "\n",
       "              Volume  \n",
       "Date                  \n",
       "2018-01-02   6870581  \n",
       "2018-01-03  10660425  \n",
       "2018-01-04  12082941  \n",
       "2018-01-05   9925316  \n",
       "2018-01-08  12129375  "
      ]
     },
     "execution_count": 11,
     "metadata": {},
     "output_type": "execute_result"
    }
   ],
   "source": [
    "df_equity.set_index('Date', inplace=True, drop=True)\n",
    "df_equity.head()"
   ]
  },
  {
   "cell_type": "code",
   "execution_count": 12,
   "metadata": {},
   "outputs": [
    {
     "data": {
      "text/html": [
       "<div>\n",
       "<style scoped>\n",
       "    .dataframe tbody tr th:only-of-type {\n",
       "        vertical-align: middle;\n",
       "    }\n",
       "\n",
       "    .dataframe tbody tr th {\n",
       "        vertical-align: top;\n",
       "    }\n",
       "\n",
       "    .dataframe thead th {\n",
       "        text-align: right;\n",
       "    }\n",
       "</style>\n",
       "<table border=\"1\" class=\"dataframe\">\n",
       "  <thead>\n",
       "    <tr style=\"text-align: right;\">\n",
       "      <th></th>\n",
       "      <th>Date</th>\n",
       "      <th>Open</th>\n",
       "      <th>High</th>\n",
       "      <th>Low</th>\n",
       "      <th>Close</th>\n",
       "      <th>Adj_Close</th>\n",
       "      <th>Volume</th>\n",
       "    </tr>\n",
       "  </thead>\n",
       "  <tbody>\n",
       "    <tr>\n",
       "      <th>0</th>\n",
       "      <td>2018-01-02</td>\n",
       "      <td>277.200012</td>\n",
       "      <td>279.700012</td>\n",
       "      <td>276.100006</td>\n",
       "      <td>277.299988</td>\n",
       "      <td>241.925720</td>\n",
       "      <td>6870581</td>\n",
       "    </tr>\n",
       "    <tr>\n",
       "      <th>1</th>\n",
       "      <td>2018-01-03</td>\n",
       "      <td>277.000000</td>\n",
       "      <td>278.600006</td>\n",
       "      <td>275.500000</td>\n",
       "      <td>275.500000</td>\n",
       "      <td>240.355347</td>\n",
       "      <td>10660425</td>\n",
       "    </tr>\n",
       "    <tr>\n",
       "      <th>2</th>\n",
       "      <td>2018-01-04</td>\n",
       "      <td>276.299988</td>\n",
       "      <td>279.399994</td>\n",
       "      <td>275.600006</td>\n",
       "      <td>278.000000</td>\n",
       "      <td>242.536407</td>\n",
       "      <td>12082941</td>\n",
       "    </tr>\n",
       "    <tr>\n",
       "      <th>3</th>\n",
       "      <td>2018-01-05</td>\n",
       "      <td>278.000000</td>\n",
       "      <td>279.299988</td>\n",
       "      <td>276.100006</td>\n",
       "      <td>276.299988</td>\n",
       "      <td>241.053284</td>\n",
       "      <td>9925316</td>\n",
       "    </tr>\n",
       "    <tr>\n",
       "      <th>4</th>\n",
       "      <td>2018-01-06</td>\n",
       "      <td>278.000000</td>\n",
       "      <td>279.299988</td>\n",
       "      <td>276.100006</td>\n",
       "      <td>276.299988</td>\n",
       "      <td>241.053284</td>\n",
       "      <td>9925316</td>\n",
       "    </tr>\n",
       "    <tr>\n",
       "      <th>5</th>\n",
       "      <td>2018-01-07</td>\n",
       "      <td>278.000000</td>\n",
       "      <td>279.299988</td>\n",
       "      <td>276.100006</td>\n",
       "      <td>276.299988</td>\n",
       "      <td>241.053284</td>\n",
       "      <td>9925316</td>\n",
       "    </tr>\n",
       "    <tr>\n",
       "      <th>6</th>\n",
       "      <td>2018-01-08</td>\n",
       "      <td>276.500000</td>\n",
       "      <td>279.500000</td>\n",
       "      <td>275.799988</td>\n",
       "      <td>278.700012</td>\n",
       "      <td>243.147156</td>\n",
       "      <td>12129375</td>\n",
       "    </tr>\n",
       "    <tr>\n",
       "      <th>7</th>\n",
       "      <td>2018-01-09</td>\n",
       "      <td>276.000000</td>\n",
       "      <td>281.299988</td>\n",
       "      <td>274.700012</td>\n",
       "      <td>280.500000</td>\n",
       "      <td>244.717499</td>\n",
       "      <td>10644412</td>\n",
       "    </tr>\n",
       "    <tr>\n",
       "      <th>8</th>\n",
       "      <td>2018-01-10</td>\n",
       "      <td>285.500000</td>\n",
       "      <td>293.600006</td>\n",
       "      <td>283.600006</td>\n",
       "      <td>293.399994</td>\n",
       "      <td>255.971893</td>\n",
       "      <td>27692422</td>\n",
       "    </tr>\n",
       "    <tr>\n",
       "      <th>9</th>\n",
       "      <td>2018-01-11</td>\n",
       "      <td>293.000000</td>\n",
       "      <td>297.500000</td>\n",
       "      <td>289.600006</td>\n",
       "      <td>296.799988</td>\n",
       "      <td>258.938171</td>\n",
       "      <td>14965757</td>\n",
       "    </tr>\n",
       "  </tbody>\n",
       "</table>\n",
       "</div>"
      ],
      "text/plain": [
       "        Date        Open        High         Low       Close   Adj_Close  \\\n",
       "0 2018-01-02  277.200012  279.700012  276.100006  277.299988  241.925720   \n",
       "1 2018-01-03  277.000000  278.600006  275.500000  275.500000  240.355347   \n",
       "2 2018-01-04  276.299988  279.399994  275.600006  278.000000  242.536407   \n",
       "3 2018-01-05  278.000000  279.299988  276.100006  276.299988  241.053284   \n",
       "4 2018-01-06  278.000000  279.299988  276.100006  276.299988  241.053284   \n",
       "5 2018-01-07  278.000000  279.299988  276.100006  276.299988  241.053284   \n",
       "6 2018-01-08  276.500000  279.500000  275.799988  278.700012  243.147156   \n",
       "7 2018-01-09  276.000000  281.299988  274.700012  280.500000  244.717499   \n",
       "8 2018-01-10  285.500000  293.600006  283.600006  293.399994  255.971893   \n",
       "9 2018-01-11  293.000000  297.500000  289.600006  296.799988  258.938171   \n",
       "\n",
       "     Volume  \n",
       "0   6870581  \n",
       "1  10660425  \n",
       "2  12082941  \n",
       "3   9925316  \n",
       "4   9925316  \n",
       "5   9925316  \n",
       "6  12129375  \n",
       "7  10644412  \n",
       "8  27692422  \n",
       "9  14965757  "
      ]
     },
     "execution_count": 12,
     "metadata": {},
     "output_type": "execute_result"
    }
   ],
   "source": [
    "df_equity = df_equity.resample('D').ffill().reset_index()\n",
    "df_equity.head(10)"
   ]
  },
  {
   "cell_type": "markdown",
   "metadata": {},
   "source": [
    "Note that the missing dates have been forward filled with the previous day's values.\n",
    "Now set the index to be the Date because we will want a Series with a DateTime index for methods below."
   ]
  },
  {
   "cell_type": "code",
   "execution_count": null,
   "metadata": {},
   "outputs": [],
   "source": [
    "ow set the index to be the Date because we will want a Series with a DateTime index for methods below."
   ]
  }
 ],
 "metadata": {
  "kernelspec": {
   "display_name": "Apache Beam 2.24.0.dev0 for Python 3",
   "language": "python",
   "name": "python3"
  },
  "language_info": {
   "codemirror_mode": {
    "name": "ipython",
    "version": 3
   },
   "file_extension": ".py",
   "mimetype": "text/x-python",
   "name": "python",
   "nbconvert_exporter": "python",
   "pygments_lexer": "ipython3",
   "version": "3.7.6"
  }
 },
 "nbformat": 4,
 "nbformat_minor": 4
}
