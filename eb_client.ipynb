{
 "cells": [
  {
   "cell_type": "code",
   "execution_count": 1,
   "metadata": {},
   "outputs": [],
   "source": [
    "# use on Apache Beam envi\n",
    "from google.cloud import bigquery\n",
    "\n",
    "client = bigquery.Client()"
   ]
  },
  {
   "cell_type": "code",
   "execution_count": 5,
   "metadata": {},
   "outputs": [
    {
     "data": {
      "text/html": [
       "<div>\n",
       "<style scoped>\n",
       "    .dataframe tbody tr th:only-of-type {\n",
       "        vertical-align: middle;\n",
       "    }\n",
       "\n",
       "    .dataframe tbody tr th {\n",
       "        vertical-align: top;\n",
       "    }\n",
       "\n",
       "    .dataframe thead th {\n",
       "        text-align: right;\n",
       "    }\n",
       "</style>\n",
       "<table border=\"1\" class=\"dataframe\">\n",
       "  <thead>\n",
       "    <tr style=\"text-align: right;\">\n",
       "      <th></th>\n",
       "      <th>Date</th>\n",
       "      <th>Open</th>\n",
       "      <th>High</th>\n",
       "      <th>Low</th>\n",
       "      <th>Close</th>\n",
       "      <th>Adj_Close</th>\n",
       "      <th>Volume</th>\n",
       "    </tr>\n",
       "  </thead>\n",
       "  <tbody>\n",
       "    <tr>\n",
       "      <th>0</th>\n",
       "      <td>2015-01-02</td>\n",
       "      <td>395.000000</td>\n",
       "      <td>395.000000</td>\n",
       "      <td>383.000000</td>\n",
       "      <td>389.100006</td>\n",
       "      <td>339.463745</td>\n",
       "      <td>7346419</td>\n",
       "    </tr>\n",
       "    <tr>\n",
       "      <th>1</th>\n",
       "      <td>2015-01-05</td>\n",
       "      <td>387.000000</td>\n",
       "      <td>389.700012</td>\n",
       "      <td>375.799988</td>\n",
       "      <td>378.000000</td>\n",
       "      <td>329.779724</td>\n",
       "      <td>11267451</td>\n",
       "    </tr>\n",
       "    <tr>\n",
       "      <th>2</th>\n",
       "      <td>2015-01-06</td>\n",
       "      <td>377.600006</td>\n",
       "      <td>380.243988</td>\n",
       "      <td>369.799988</td>\n",
       "      <td>370.000000</td>\n",
       "      <td>322.800293</td>\n",
       "      <td>10836629</td>\n",
       "    </tr>\n",
       "    <tr>\n",
       "      <th>3</th>\n",
       "      <td>2015-01-07</td>\n",
       "      <td>372.100006</td>\n",
       "      <td>375.000000</td>\n",
       "      <td>366.600006</td>\n",
       "      <td>367.399994</td>\n",
       "      <td>320.531952</td>\n",
       "      <td>7489661</td>\n",
       "    </tr>\n",
       "    <tr>\n",
       "      <th>4</th>\n",
       "      <td>2015-01-08</td>\n",
       "      <td>370.899994</td>\n",
       "      <td>379.269989</td>\n",
       "      <td>368.399994</td>\n",
       "      <td>377.700012</td>\n",
       "      <td>329.518005</td>\n",
       "      <td>8700815</td>\n",
       "    </tr>\n",
       "  </tbody>\n",
       "</table>\n",
       "</div>"
      ],
      "text/plain": [
       "         Date        Open        High         Low       Close   Adj_Close  \\\n",
       "0  2015-01-02  395.000000  395.000000  383.000000  389.100006  339.463745   \n",
       "1  2015-01-05  387.000000  389.700012  375.799988  378.000000  329.779724   \n",
       "2  2015-01-06  377.600006  380.243988  369.799988  370.000000  322.800293   \n",
       "3  2015-01-07  372.100006  375.000000  366.600006  367.399994  320.531952   \n",
       "4  2015-01-08  370.899994  379.269989  368.399994  377.700012  329.518005   \n",
       "\n",
       "     Volume  \n",
       "0   7346419  \n",
       "1  11267451  \n",
       "2  10836629  \n",
       "3   7489661  \n",
       "4   8700815  "
      ]
     },
     "execution_count": 5,
     "metadata": {},
     "output_type": "execute_result"
    }
   ],
   "source": [
    "lengthofstay=\"\"\"\n",
    "select * from equity_prices.rbs_equity where Date > \"2015-01-01\" order by Date \n",
    "\"\"\"\n",
    "df = client.query(lengthofstay).to_dataframe()\n",
    "df.head()"
   ]
  },
  {
   "cell_type": "code",
   "execution_count": null,
   "metadata": {},
   "outputs": [],
   "source": []
  }
 ],
 "metadata": {
  "kernelspec": {
   "display_name": "Apache Beam 2.24.0.dev0 for Python 3",
   "language": "python",
   "name": "python3"
  },
  "language_info": {
   "codemirror_mode": {
    "name": "ipython",
    "version": 3
   },
   "file_extension": ".py",
   "mimetype": "text/x-python",
   "name": "python",
   "nbconvert_exporter": "python",
   "pygments_lexer": "ipython3",
   "version": "3.7.6"
  }
 },
 "nbformat": 4,
 "nbformat_minor": 4
}
